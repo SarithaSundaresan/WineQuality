{
  "cells": [
    {
      "cell_type": "markdown",
      "metadata": {
        "id": "view-in-github",
        "colab_type": "text"
      },
      "source": [
        "<a href=\"https://colab.research.google.com/github/SarithaSundaresan/WineQuality/blob/main/cloud_classification_Jul14.ipynb\" target=\"_parent\"><img src=\"https://colab.research.google.com/assets/colab-badge.svg\" alt=\"Open In Colab\"/></a>"
      ]
    },
    {
      "cell_type": "code",
      "execution_count": 2,
      "metadata": {
        "id": "nPoTykyEtljT"
      },
      "outputs": [],
      "source": [
        "import tensorflow as tf\n",
        "import keras\n",
        "import cv2\n",
        "import pandas as pd\n",
        "import os\n",
        "from sklearn.model_selection import train_test_split\n",
        "import matplotlib.pyplot as plt\n",
        "import numpy as np\n",
        "import math\n",
        "import seaborn as sns\n",
        "\n",
        "from tensorflow.keras.layers import Input, Lambda, Dense, Flatten\n",
        "from tensorflow.keras.models import Model\n",
        "from tensorflow.keras.applications.vgg16 import VGG16\n",
        "from tensorflow.keras.layers import Input, Lambda, Dense, Flatten\n",
        "from tensorflow.keras.preprocessing import image\n",
        "from tensorflow.keras.preprocessing.image import ImageDataGenerator\n",
        "from tensorflow.keras.models import Sequential\n",
        "from tensorflow.keras.utils import Sequence\n",
        "from tensorflow.keras.models import load_model"
      ]
    },
    {
      "cell_type": "code",
      "execution_count": 3,
      "metadata": {
        "colab": {
          "base_uri": "https://localhost:8080/"
        },
        "id": "ll31yO3Cujfa",
        "outputId": "e8ac329f-eb99-4953-9c05-e04a8ba00c91"
      },
      "outputs": [
        {
          "output_type": "stream",
          "name": "stdout",
          "text": [
            "2.12.0\n",
            "2.12.0\n"
          ]
        }
      ],
      "source": [
        "print(tf.__version__)\n",
        "print(keras.__version__)\n",
        "\n",
        "#print(tf.config.list_physical_devices('GPU'))"
      ]
    },
    {
      "cell_type": "code",
      "execution_count": 6,
      "metadata": {
        "colab": {
          "base_uri": "https://localhost:8080/"
        },
        "id": "wCo9xL8Zuxw5",
        "outputId": "e220eeef-efe4-4153-e330-e31dd80edd54"
      },
      "outputs": [
        {
          "output_type": "stream",
          "name": "stdout",
          "text": [
            "Mounted at /content/drive\n"
          ]
        }
      ],
      "source": [
        "from google.colab import drive\n",
        "drive.mount('/content/drive' , force_remount=True)\n",
        "ROOT_DIR = \"/content/drive/MyDrive/Assg2\""
      ]
    },
    {
      "cell_type": "code",
      "execution_count": 7,
      "metadata": {
        "colab": {
          "base_uri": "https://localhost:8080/",
          "height": 223
        },
        "id": "03BLnhwxwf1-",
        "outputId": "b8957ddd-af51-4941-b4ee-0afc0a8667f4"
      },
      "outputs": [
        {
          "output_type": "stream",
          "name": "stdout",
          "text": [
            "No of Train Images: 190\n"
          ]
        },
        {
          "output_type": "execute_result",
          "data": {
            "text/plain": [
              "          Image_Label                                      EncodedPixels\n",
              "0    0011165.jpg_Fish  264918 937 266318 937 267718 937 269118 937 27...\n",
              "1  0011165.jpg_Flower  1355565 1002 1356965 1002 1358365 1002 1359765...\n",
              "2  0011165.jpg_Gravel                                                NaN\n",
              "3   0011165.jpg_Sugar                                                NaN\n",
              "4    002be4f.jpg_Fish  233813 878 235213 878 236613 878 238010 881 23..."
            ],
            "text/html": [
              "\n",
              "\n",
              "  <div id=\"df-eebc88b5-f640-452a-8d0b-1cf2e78cd2e4\">\n",
              "    <div class=\"colab-df-container\">\n",
              "      <div>\n",
              "<style scoped>\n",
              "    .dataframe tbody tr th:only-of-type {\n",
              "        vertical-align: middle;\n",
              "    }\n",
              "\n",
              "    .dataframe tbody tr th {\n",
              "        vertical-align: top;\n",
              "    }\n",
              "\n",
              "    .dataframe thead th {\n",
              "        text-align: right;\n",
              "    }\n",
              "</style>\n",
              "<table border=\"1\" class=\"dataframe\">\n",
              "  <thead>\n",
              "    <tr style=\"text-align: right;\">\n",
              "      <th></th>\n",
              "      <th>Image_Label</th>\n",
              "      <th>EncodedPixels</th>\n",
              "    </tr>\n",
              "  </thead>\n",
              "  <tbody>\n",
              "    <tr>\n",
              "      <th>0</th>\n",
              "      <td>0011165.jpg_Fish</td>\n",
              "      <td>264918 937 266318 937 267718 937 269118 937 27...</td>\n",
              "    </tr>\n",
              "    <tr>\n",
              "      <th>1</th>\n",
              "      <td>0011165.jpg_Flower</td>\n",
              "      <td>1355565 1002 1356965 1002 1358365 1002 1359765...</td>\n",
              "    </tr>\n",
              "    <tr>\n",
              "      <th>2</th>\n",
              "      <td>0011165.jpg_Gravel</td>\n",
              "      <td>NaN</td>\n",
              "    </tr>\n",
              "    <tr>\n",
              "      <th>3</th>\n",
              "      <td>0011165.jpg_Sugar</td>\n",
              "      <td>NaN</td>\n",
              "    </tr>\n",
              "    <tr>\n",
              "      <th>4</th>\n",
              "      <td>002be4f.jpg_Fish</td>\n",
              "      <td>233813 878 235213 878 236613 878 238010 881 23...</td>\n",
              "    </tr>\n",
              "  </tbody>\n",
              "</table>\n",
              "</div>\n",
              "      <button class=\"colab-df-convert\" onclick=\"convertToInteractive('df-eebc88b5-f640-452a-8d0b-1cf2e78cd2e4')\"\n",
              "              title=\"Convert this dataframe to an interactive table.\"\n",
              "              style=\"display:none;\">\n",
              "\n",
              "  <svg xmlns=\"http://www.w3.org/2000/svg\" height=\"24px\"viewBox=\"0 0 24 24\"\n",
              "       width=\"24px\">\n",
              "    <path d=\"M0 0h24v24H0V0z\" fill=\"none\"/>\n",
              "    <path d=\"M18.56 5.44l.94 2.06.94-2.06 2.06-.94-2.06-.94-.94-2.06-.94 2.06-2.06.94zm-11 1L8.5 8.5l.94-2.06 2.06-.94-2.06-.94L8.5 2.5l-.94 2.06-2.06.94zm10 10l.94 2.06.94-2.06 2.06-.94-2.06-.94-.94-2.06-.94 2.06-2.06.94z\"/><path d=\"M17.41 7.96l-1.37-1.37c-.4-.4-.92-.59-1.43-.59-.52 0-1.04.2-1.43.59L10.3 9.45l-7.72 7.72c-.78.78-.78 2.05 0 2.83L4 21.41c.39.39.9.59 1.41.59.51 0 1.02-.2 1.41-.59l7.78-7.78 2.81-2.81c.8-.78.8-2.07 0-2.86zM5.41 20L4 18.59l7.72-7.72 1.47 1.35L5.41 20z\"/>\n",
              "  </svg>\n",
              "      </button>\n",
              "\n",
              "\n",
              "\n",
              "    <div id=\"df-da2e462f-8275-4ab9-86f2-fbb8ad787af9\">\n",
              "      <button class=\"colab-df-quickchart\" onclick=\"quickchart('df-da2e462f-8275-4ab9-86f2-fbb8ad787af9')\"\n",
              "              title=\"Suggest charts.\"\n",
              "              style=\"display:none;\">\n",
              "\n",
              "<svg xmlns=\"http://www.w3.org/2000/svg\" height=\"24px\"viewBox=\"0 0 24 24\"\n",
              "     width=\"24px\">\n",
              "    <g>\n",
              "        <path d=\"M19 3H5c-1.1 0-2 .9-2 2v14c0 1.1.9 2 2 2h14c1.1 0 2-.9 2-2V5c0-1.1-.9-2-2-2zM9 17H7v-7h2v7zm4 0h-2V7h2v10zm4 0h-2v-4h2v4z\"/>\n",
              "    </g>\n",
              "</svg>\n",
              "      </button>\n",
              "    </div>\n",
              "\n",
              "<style>\n",
              "  .colab-df-quickchart {\n",
              "    background-color: #E8F0FE;\n",
              "    border: none;\n",
              "    border-radius: 50%;\n",
              "    cursor: pointer;\n",
              "    display: none;\n",
              "    fill: #1967D2;\n",
              "    height: 32px;\n",
              "    padding: 0 0 0 0;\n",
              "    width: 32px;\n",
              "  }\n",
              "\n",
              "  .colab-df-quickchart:hover {\n",
              "    background-color: #E2EBFA;\n",
              "    box-shadow: 0px 1px 2px rgba(60, 64, 67, 0.3), 0px 1px 3px 1px rgba(60, 64, 67, 0.15);\n",
              "    fill: #174EA6;\n",
              "  }\n",
              "\n",
              "  [theme=dark] .colab-df-quickchart {\n",
              "    background-color: #3B4455;\n",
              "    fill: #D2E3FC;\n",
              "  }\n",
              "\n",
              "  [theme=dark] .colab-df-quickchart:hover {\n",
              "    background-color: #434B5C;\n",
              "    box-shadow: 0px 1px 3px 1px rgba(0, 0, 0, 0.15);\n",
              "    filter: drop-shadow(0px 1px 2px rgba(0, 0, 0, 0.3));\n",
              "    fill: #FFFFFF;\n",
              "  }\n",
              "</style>\n",
              "\n",
              "    <script>\n",
              "      async function quickchart(key) {\n",
              "        const containerElement = document.querySelector('#' + key);\n",
              "        const charts = await google.colab.kernel.invokeFunction(\n",
              "            'suggestCharts', [key], {});\n",
              "      }\n",
              "    </script>\n",
              "\n",
              "      <script>\n",
              "\n",
              "function displayQuickchartButton(domScope) {\n",
              "  let quickchartButtonEl =\n",
              "    domScope.querySelector('#df-da2e462f-8275-4ab9-86f2-fbb8ad787af9 button.colab-df-quickchart');\n",
              "  quickchartButtonEl.style.display =\n",
              "    google.colab.kernel.accessAllowed ? 'block' : 'none';\n",
              "}\n",
              "\n",
              "        displayQuickchartButton(document);\n",
              "      </script>\n",
              "      <style>\n",
              "    .colab-df-container {\n",
              "      display:flex;\n",
              "      flex-wrap:wrap;\n",
              "      gap: 12px;\n",
              "    }\n",
              "\n",
              "    .colab-df-convert {\n",
              "      background-color: #E8F0FE;\n",
              "      border: none;\n",
              "      border-radius: 50%;\n",
              "      cursor: pointer;\n",
              "      display: none;\n",
              "      fill: #1967D2;\n",
              "      height: 32px;\n",
              "      padding: 0 0 0 0;\n",
              "      width: 32px;\n",
              "    }\n",
              "\n",
              "    .colab-df-convert:hover {\n",
              "      background-color: #E2EBFA;\n",
              "      box-shadow: 0px 1px 2px rgba(60, 64, 67, 0.3), 0px 1px 3px 1px rgba(60, 64, 67, 0.15);\n",
              "      fill: #174EA6;\n",
              "    }\n",
              "\n",
              "    [theme=dark] .colab-df-convert {\n",
              "      background-color: #3B4455;\n",
              "      fill: #D2E3FC;\n",
              "    }\n",
              "\n",
              "    [theme=dark] .colab-df-convert:hover {\n",
              "      background-color: #434B5C;\n",
              "      box-shadow: 0px 1px 3px 1px rgba(0, 0, 0, 0.15);\n",
              "      filter: drop-shadow(0px 1px 2px rgba(0, 0, 0, 0.3));\n",
              "      fill: #FFFFFF;\n",
              "    }\n",
              "  </style>\n",
              "\n",
              "      <script>\n",
              "        const buttonEl =\n",
              "          document.querySelector('#df-eebc88b5-f640-452a-8d0b-1cf2e78cd2e4 button.colab-df-convert');\n",
              "        buttonEl.style.display =\n",
              "          google.colab.kernel.accessAllowed ? 'block' : 'none';\n",
              "\n",
              "        async function convertToInteractive(key) {\n",
              "          const element = document.querySelector('#df-eebc88b5-f640-452a-8d0b-1cf2e78cd2e4');\n",
              "          const dataTable =\n",
              "            await google.colab.kernel.invokeFunction('convertToInteractive',\n",
              "                                                     [key], {});\n",
              "          if (!dataTable) return;\n",
              "\n",
              "          const docLinkHtml = 'Like what you see? Visit the ' +\n",
              "            '<a target=\"_blank\" href=https://colab.research.google.com/notebooks/data_table.ipynb>data table notebook</a>'\n",
              "            + ' to learn more about interactive tables.';\n",
              "          element.innerHTML = '';\n",
              "          dataTable['output_type'] = 'display_data';\n",
              "          await google.colab.output.renderOutput(dataTable, element);\n",
              "          const docLink = document.createElement('div');\n",
              "          docLink.innerHTML = docLinkHtml;\n",
              "          element.appendChild(docLink);\n",
              "        }\n",
              "      </script>\n",
              "    </div>\n",
              "  </div>\n"
            ]
          },
          "metadata": {},
          "execution_count": 7
        }
      ],
      "source": [
        "### CREATE DIRECTORY FOR TRAING & TEST DATASET ###\n",
        "TRAIN_IMGS_PATH = os.path.join(ROOT_DIR, \"train_images_sm1\")\n",
        "TRAIN_IMAGE_MASKS_PATH = os.path.join(ROOT_DIR, \"train.csv\")\n",
        "TEST_IMGS_PATH = os.path.join(ROOT_DIR, \"test_images\")\n",
        "\n",
        "CLOUD_TYPES = [\"Fish\",\"Flower\",\"Gravel\",\"Sugar\"]\n",
        "### PRINT NO OG IMAGES IN TEST AND TRAIN ####\n",
        "num_train_images = len(os.listdir(TRAIN_IMGS_PATH))\n",
        "print(\"No of Train Images:\", num_train_images)\n",
        "num_test_images = len(os.listdir(TEST_IMGS_PATH))\n",
        "#print(\"No of Test Images:\",num_test_images)\n",
        "\n",
        "### Print mask data ###\n",
        "train_masks = pd.read_csv(\"/content/drive/MyDrive/Assg2/train.csv\")\n",
        "train_masks.head()\n"
      ]
    },
    {
      "cell_type": "code",
      "execution_count": 5,
      "metadata": {
        "colab": {
          "base_uri": "https://localhost:8080/",
          "height": 175
        },
        "id": "IxChAR2OzWTv",
        "outputId": "ed822d1a-2076-4b11-e30c-66cfe061ecc0"
      },
      "outputs": [
        {
          "output_type": "execute_result",
          "data": {
            "text/plain": [
              "             Image_Label                                      EncodedPixels\n",
              "count              22184                                              11836\n",
              "unique             22184                                              11836\n",
              "top     0011165.jpg_Fish  264918 937 266318 937 267718 937 269118 937 27...\n",
              "freq                   1                                                  1"
            ],
            "text/html": [
              "\n",
              "\n",
              "  <div id=\"df-e3f9874e-24ff-4656-8200-0707e071b40d\">\n",
              "    <div class=\"colab-df-container\">\n",
              "      <div>\n",
              "<style scoped>\n",
              "    .dataframe tbody tr th:only-of-type {\n",
              "        vertical-align: middle;\n",
              "    }\n",
              "\n",
              "    .dataframe tbody tr th {\n",
              "        vertical-align: top;\n",
              "    }\n",
              "\n",
              "    .dataframe thead th {\n",
              "        text-align: right;\n",
              "    }\n",
              "</style>\n",
              "<table border=\"1\" class=\"dataframe\">\n",
              "  <thead>\n",
              "    <tr style=\"text-align: right;\">\n",
              "      <th></th>\n",
              "      <th>Image_Label</th>\n",
              "      <th>EncodedPixels</th>\n",
              "    </tr>\n",
              "  </thead>\n",
              "  <tbody>\n",
              "    <tr>\n",
              "      <th>count</th>\n",
              "      <td>22184</td>\n",
              "      <td>11836</td>\n",
              "    </tr>\n",
              "    <tr>\n",
              "      <th>unique</th>\n",
              "      <td>22184</td>\n",
              "      <td>11836</td>\n",
              "    </tr>\n",
              "    <tr>\n",
              "      <th>top</th>\n",
              "      <td>0011165.jpg_Fish</td>\n",
              "      <td>264918 937 266318 937 267718 937 269118 937 27...</td>\n",
              "    </tr>\n",
              "    <tr>\n",
              "      <th>freq</th>\n",
              "      <td>1</td>\n",
              "      <td>1</td>\n",
              "    </tr>\n",
              "  </tbody>\n",
              "</table>\n",
              "</div>\n",
              "      <button class=\"colab-df-convert\" onclick=\"convertToInteractive('df-e3f9874e-24ff-4656-8200-0707e071b40d')\"\n",
              "              title=\"Convert this dataframe to an interactive table.\"\n",
              "              style=\"display:none;\">\n",
              "\n",
              "  <svg xmlns=\"http://www.w3.org/2000/svg\" height=\"24px\"viewBox=\"0 0 24 24\"\n",
              "       width=\"24px\">\n",
              "    <path d=\"M0 0h24v24H0V0z\" fill=\"none\"/>\n",
              "    <path d=\"M18.56 5.44l.94 2.06.94-2.06 2.06-.94-2.06-.94-.94-2.06-.94 2.06-2.06.94zm-11 1L8.5 8.5l.94-2.06 2.06-.94-2.06-.94L8.5 2.5l-.94 2.06-2.06.94zm10 10l.94 2.06.94-2.06 2.06-.94-2.06-.94-.94-2.06-.94 2.06-2.06.94z\"/><path d=\"M17.41 7.96l-1.37-1.37c-.4-.4-.92-.59-1.43-.59-.52 0-1.04.2-1.43.59L10.3 9.45l-7.72 7.72c-.78.78-.78 2.05 0 2.83L4 21.41c.39.39.9.59 1.41.59.51 0 1.02-.2 1.41-.59l7.78-7.78 2.81-2.81c.8-.78.8-2.07 0-2.86zM5.41 20L4 18.59l7.72-7.72 1.47 1.35L5.41 20z\"/>\n",
              "  </svg>\n",
              "      </button>\n",
              "\n",
              "\n",
              "\n",
              "    <div id=\"df-d9e2d326-574c-4a2f-b4cf-e7f689de3bdc\">\n",
              "      <button class=\"colab-df-quickchart\" onclick=\"quickchart('df-d9e2d326-574c-4a2f-b4cf-e7f689de3bdc')\"\n",
              "              title=\"Suggest charts.\"\n",
              "              style=\"display:none;\">\n",
              "\n",
              "<svg xmlns=\"http://www.w3.org/2000/svg\" height=\"24px\"viewBox=\"0 0 24 24\"\n",
              "     width=\"24px\">\n",
              "    <g>\n",
              "        <path d=\"M19 3H5c-1.1 0-2 .9-2 2v14c0 1.1.9 2 2 2h14c1.1 0 2-.9 2-2V5c0-1.1-.9-2-2-2zM9 17H7v-7h2v7zm4 0h-2V7h2v10zm4 0h-2v-4h2v4z\"/>\n",
              "    </g>\n",
              "</svg>\n",
              "      </button>\n",
              "    </div>\n",
              "\n",
              "<style>\n",
              "  .colab-df-quickchart {\n",
              "    background-color: #E8F0FE;\n",
              "    border: none;\n",
              "    border-radius: 50%;\n",
              "    cursor: pointer;\n",
              "    display: none;\n",
              "    fill: #1967D2;\n",
              "    height: 32px;\n",
              "    padding: 0 0 0 0;\n",
              "    width: 32px;\n",
              "  }\n",
              "\n",
              "  .colab-df-quickchart:hover {\n",
              "    background-color: #E2EBFA;\n",
              "    box-shadow: 0px 1px 2px rgba(60, 64, 67, 0.3), 0px 1px 3px 1px rgba(60, 64, 67, 0.15);\n",
              "    fill: #174EA6;\n",
              "  }\n",
              "\n",
              "  [theme=dark] .colab-df-quickchart {\n",
              "    background-color: #3B4455;\n",
              "    fill: #D2E3FC;\n",
              "  }\n",
              "\n",
              "  [theme=dark] .colab-df-quickchart:hover {\n",
              "    background-color: #434B5C;\n",
              "    box-shadow: 0px 1px 3px 1px rgba(0, 0, 0, 0.15);\n",
              "    filter: drop-shadow(0px 1px 2px rgba(0, 0, 0, 0.3));\n",
              "    fill: #FFFFFF;\n",
              "  }\n",
              "</style>\n",
              "\n",
              "    <script>\n",
              "      async function quickchart(key) {\n",
              "        const containerElement = document.querySelector('#' + key);\n",
              "        const charts = await google.colab.kernel.invokeFunction(\n",
              "            'suggestCharts', [key], {});\n",
              "      }\n",
              "    </script>\n",
              "\n",
              "      <script>\n",
              "\n",
              "function displayQuickchartButton(domScope) {\n",
              "  let quickchartButtonEl =\n",
              "    domScope.querySelector('#df-d9e2d326-574c-4a2f-b4cf-e7f689de3bdc button.colab-df-quickchart');\n",
              "  quickchartButtonEl.style.display =\n",
              "    google.colab.kernel.accessAllowed ? 'block' : 'none';\n",
              "}\n",
              "\n",
              "        displayQuickchartButton(document);\n",
              "      </script>\n",
              "      <style>\n",
              "    .colab-df-container {\n",
              "      display:flex;\n",
              "      flex-wrap:wrap;\n",
              "      gap: 12px;\n",
              "    }\n",
              "\n",
              "    .colab-df-convert {\n",
              "      background-color: #E8F0FE;\n",
              "      border: none;\n",
              "      border-radius: 50%;\n",
              "      cursor: pointer;\n",
              "      display: none;\n",
              "      fill: #1967D2;\n",
              "      height: 32px;\n",
              "      padding: 0 0 0 0;\n",
              "      width: 32px;\n",
              "    }\n",
              "\n",
              "    .colab-df-convert:hover {\n",
              "      background-color: #E2EBFA;\n",
              "      box-shadow: 0px 1px 2px rgba(60, 64, 67, 0.3), 0px 1px 3px 1px rgba(60, 64, 67, 0.15);\n",
              "      fill: #174EA6;\n",
              "    }\n",
              "\n",
              "    [theme=dark] .colab-df-convert {\n",
              "      background-color: #3B4455;\n",
              "      fill: #D2E3FC;\n",
              "    }\n",
              "\n",
              "    [theme=dark] .colab-df-convert:hover {\n",
              "      background-color: #434B5C;\n",
              "      box-shadow: 0px 1px 3px 1px rgba(0, 0, 0, 0.15);\n",
              "      filter: drop-shadow(0px 1px 2px rgba(0, 0, 0, 0.3));\n",
              "      fill: #FFFFFF;\n",
              "    }\n",
              "  </style>\n",
              "\n",
              "      <script>\n",
              "        const buttonEl =\n",
              "          document.querySelector('#df-e3f9874e-24ff-4656-8200-0707e071b40d button.colab-df-convert');\n",
              "        buttonEl.style.display =\n",
              "          google.colab.kernel.accessAllowed ? 'block' : 'none';\n",
              "\n",
              "        async function convertToInteractive(key) {\n",
              "          const element = document.querySelector('#df-e3f9874e-24ff-4656-8200-0707e071b40d');\n",
              "          const dataTable =\n",
              "            await google.colab.kernel.invokeFunction('convertToInteractive',\n",
              "                                                     [key], {});\n",
              "          if (!dataTable) return;\n",
              "\n",
              "          const docLinkHtml = 'Like what you see? Visit the ' +\n",
              "            '<a target=\"_blank\" href=https://colab.research.google.com/notebooks/data_table.ipynb>data table notebook</a>'\n",
              "            + ' to learn more about interactive tables.';\n",
              "          element.innerHTML = '';\n",
              "          dataTable['output_type'] = 'display_data';\n",
              "          await google.colab.output.renderOutput(dataTable, element);\n",
              "          const docLink = document.createElement('div');\n",
              "          docLink.innerHTML = docLinkHtml;\n",
              "          element.appendChild(docLink);\n",
              "        }\n",
              "      </script>\n",
              "    </div>\n",
              "  </div>\n"
            ]
          },
          "metadata": {},
          "execution_count": 5
        }
      ],
      "source": [
        "train_masks.describe()"
      ]
    },
    {
      "cell_type": "code",
      "execution_count": 8,
      "metadata": {
        "id": "QK2dTet81lE8"
      },
      "outputs": [],
      "source": [
        "## Insert new column to identify the cloud label ##\n",
        "train_masks.insert(1, \"Cloud_Label\", \"\")\n"
      ]
    },
    {
      "cell_type": "code",
      "execution_count": 9,
      "metadata": {
        "colab": {
          "base_uri": "https://localhost:8080/",
          "height": 279
        },
        "id": "X5S7f9KV6dxk",
        "outputId": "1228c999-8006-4c51-bc48-09e08888fba3"
      },
      "outputs": [
        {
          "output_type": "stream",
          "name": "stdout",
          "text": [
            "   Image_Label Cloud_Label                                      EncodedPixels\n",
            "0  0011165.jpg        Fish  264918 937 266318 937 267718 937 269118 937 27...\n",
            "1  0011165.jpg      Flower  1355565 1002 1356965 1002 1358365 1002 1359765...\n",
            "2  0011165.jpg      Gravel                                                NaN\n",
            "3  0011165.jpg       Sugar                                                NaN\n",
            "4  002be4f.jpg        Fish  233813 878 235213 878 236613 878 238010 881 23...\n"
          ]
        },
        {
          "output_type": "execute_result",
          "data": {
            "text/plain": [
              "        Image_Label Cloud_Label  \\\n",
              "count         22184       22184   \n",
              "unique         5546           4   \n",
              "top     0011165.jpg        Fish   \n",
              "freq              4        5546   \n",
              "\n",
              "                                            EncodedPixels  \n",
              "count                                               11836  \n",
              "unique                                              11836  \n",
              "top     264918 937 266318 937 267718 937 269118 937 27...  \n",
              "freq                                                    1  "
            ],
            "text/html": [
              "\n",
              "\n",
              "  <div id=\"df-8910c6db-e3c0-4a8e-b012-aad8d77011b8\">\n",
              "    <div class=\"colab-df-container\">\n",
              "      <div>\n",
              "<style scoped>\n",
              "    .dataframe tbody tr th:only-of-type {\n",
              "        vertical-align: middle;\n",
              "    }\n",
              "\n",
              "    .dataframe tbody tr th {\n",
              "        vertical-align: top;\n",
              "    }\n",
              "\n",
              "    .dataframe thead th {\n",
              "        text-align: right;\n",
              "    }\n",
              "</style>\n",
              "<table border=\"1\" class=\"dataframe\">\n",
              "  <thead>\n",
              "    <tr style=\"text-align: right;\">\n",
              "      <th></th>\n",
              "      <th>Image_Label</th>\n",
              "      <th>Cloud_Label</th>\n",
              "      <th>EncodedPixels</th>\n",
              "    </tr>\n",
              "  </thead>\n",
              "  <tbody>\n",
              "    <tr>\n",
              "      <th>count</th>\n",
              "      <td>22184</td>\n",
              "      <td>22184</td>\n",
              "      <td>11836</td>\n",
              "    </tr>\n",
              "    <tr>\n",
              "      <th>unique</th>\n",
              "      <td>5546</td>\n",
              "      <td>4</td>\n",
              "      <td>11836</td>\n",
              "    </tr>\n",
              "    <tr>\n",
              "      <th>top</th>\n",
              "      <td>0011165.jpg</td>\n",
              "      <td>Fish</td>\n",
              "      <td>264918 937 266318 937 267718 937 269118 937 27...</td>\n",
              "    </tr>\n",
              "    <tr>\n",
              "      <th>freq</th>\n",
              "      <td>4</td>\n",
              "      <td>5546</td>\n",
              "      <td>1</td>\n",
              "    </tr>\n",
              "  </tbody>\n",
              "</table>\n",
              "</div>\n",
              "      <button class=\"colab-df-convert\" onclick=\"convertToInteractive('df-8910c6db-e3c0-4a8e-b012-aad8d77011b8')\"\n",
              "              title=\"Convert this dataframe to an interactive table.\"\n",
              "              style=\"display:none;\">\n",
              "\n",
              "  <svg xmlns=\"http://www.w3.org/2000/svg\" height=\"24px\"viewBox=\"0 0 24 24\"\n",
              "       width=\"24px\">\n",
              "    <path d=\"M0 0h24v24H0V0z\" fill=\"none\"/>\n",
              "    <path d=\"M18.56 5.44l.94 2.06.94-2.06 2.06-.94-2.06-.94-.94-2.06-.94 2.06-2.06.94zm-11 1L8.5 8.5l.94-2.06 2.06-.94-2.06-.94L8.5 2.5l-.94 2.06-2.06.94zm10 10l.94 2.06.94-2.06 2.06-.94-2.06-.94-.94-2.06-.94 2.06-2.06.94z\"/><path d=\"M17.41 7.96l-1.37-1.37c-.4-.4-.92-.59-1.43-.59-.52 0-1.04.2-1.43.59L10.3 9.45l-7.72 7.72c-.78.78-.78 2.05 0 2.83L4 21.41c.39.39.9.59 1.41.59.51 0 1.02-.2 1.41-.59l7.78-7.78 2.81-2.81c.8-.78.8-2.07 0-2.86zM5.41 20L4 18.59l7.72-7.72 1.47 1.35L5.41 20z\"/>\n",
              "  </svg>\n",
              "      </button>\n",
              "\n",
              "\n",
              "\n",
              "    <div id=\"df-482e1f3e-0541-4c54-814a-8d85968c8000\">\n",
              "      <button class=\"colab-df-quickchart\" onclick=\"quickchart('df-482e1f3e-0541-4c54-814a-8d85968c8000')\"\n",
              "              title=\"Suggest charts.\"\n",
              "              style=\"display:none;\">\n",
              "\n",
              "<svg xmlns=\"http://www.w3.org/2000/svg\" height=\"24px\"viewBox=\"0 0 24 24\"\n",
              "     width=\"24px\">\n",
              "    <g>\n",
              "        <path d=\"M19 3H5c-1.1 0-2 .9-2 2v14c0 1.1.9 2 2 2h14c1.1 0 2-.9 2-2V5c0-1.1-.9-2-2-2zM9 17H7v-7h2v7zm4 0h-2V7h2v10zm4 0h-2v-4h2v4z\"/>\n",
              "    </g>\n",
              "</svg>\n",
              "      </button>\n",
              "    </div>\n",
              "\n",
              "<style>\n",
              "  .colab-df-quickchart {\n",
              "    background-color: #E8F0FE;\n",
              "    border: none;\n",
              "    border-radius: 50%;\n",
              "    cursor: pointer;\n",
              "    display: none;\n",
              "    fill: #1967D2;\n",
              "    height: 32px;\n",
              "    padding: 0 0 0 0;\n",
              "    width: 32px;\n",
              "  }\n",
              "\n",
              "  .colab-df-quickchart:hover {\n",
              "    background-color: #E2EBFA;\n",
              "    box-shadow: 0px 1px 2px rgba(60, 64, 67, 0.3), 0px 1px 3px 1px rgba(60, 64, 67, 0.15);\n",
              "    fill: #174EA6;\n",
              "  }\n",
              "\n",
              "  [theme=dark] .colab-df-quickchart {\n",
              "    background-color: #3B4455;\n",
              "    fill: #D2E3FC;\n",
              "  }\n",
              "\n",
              "  [theme=dark] .colab-df-quickchart:hover {\n",
              "    background-color: #434B5C;\n",
              "    box-shadow: 0px 1px 3px 1px rgba(0, 0, 0, 0.15);\n",
              "    filter: drop-shadow(0px 1px 2px rgba(0, 0, 0, 0.3));\n",
              "    fill: #FFFFFF;\n",
              "  }\n",
              "</style>\n",
              "\n",
              "    <script>\n",
              "      async function quickchart(key) {\n",
              "        const containerElement = document.querySelector('#' + key);\n",
              "        const charts = await google.colab.kernel.invokeFunction(\n",
              "            'suggestCharts', [key], {});\n",
              "      }\n",
              "    </script>\n",
              "\n",
              "      <script>\n",
              "\n",
              "function displayQuickchartButton(domScope) {\n",
              "  let quickchartButtonEl =\n",
              "    domScope.querySelector('#df-482e1f3e-0541-4c54-814a-8d85968c8000 button.colab-df-quickchart');\n",
              "  quickchartButtonEl.style.display =\n",
              "    google.colab.kernel.accessAllowed ? 'block' : 'none';\n",
              "}\n",
              "\n",
              "        displayQuickchartButton(document);\n",
              "      </script>\n",
              "      <style>\n",
              "    .colab-df-container {\n",
              "      display:flex;\n",
              "      flex-wrap:wrap;\n",
              "      gap: 12px;\n",
              "    }\n",
              "\n",
              "    .colab-df-convert {\n",
              "      background-color: #E8F0FE;\n",
              "      border: none;\n",
              "      border-radius: 50%;\n",
              "      cursor: pointer;\n",
              "      display: none;\n",
              "      fill: #1967D2;\n",
              "      height: 32px;\n",
              "      padding: 0 0 0 0;\n",
              "      width: 32px;\n",
              "    }\n",
              "\n",
              "    .colab-df-convert:hover {\n",
              "      background-color: #E2EBFA;\n",
              "      box-shadow: 0px 1px 2px rgba(60, 64, 67, 0.3), 0px 1px 3px 1px rgba(60, 64, 67, 0.15);\n",
              "      fill: #174EA6;\n",
              "    }\n",
              "\n",
              "    [theme=dark] .colab-df-convert {\n",
              "      background-color: #3B4455;\n",
              "      fill: #D2E3FC;\n",
              "    }\n",
              "\n",
              "    [theme=dark] .colab-df-convert:hover {\n",
              "      background-color: #434B5C;\n",
              "      box-shadow: 0px 1px 3px 1px rgba(0, 0, 0, 0.15);\n",
              "      filter: drop-shadow(0px 1px 2px rgba(0, 0, 0, 0.3));\n",
              "      fill: #FFFFFF;\n",
              "    }\n",
              "  </style>\n",
              "\n",
              "      <script>\n",
              "        const buttonEl =\n",
              "          document.querySelector('#df-8910c6db-e3c0-4a8e-b012-aad8d77011b8 button.colab-df-convert');\n",
              "        buttonEl.style.display =\n",
              "          google.colab.kernel.accessAllowed ? 'block' : 'none';\n",
              "\n",
              "        async function convertToInteractive(key) {\n",
              "          const element = document.querySelector('#df-8910c6db-e3c0-4a8e-b012-aad8d77011b8');\n",
              "          const dataTable =\n",
              "            await google.colab.kernel.invokeFunction('convertToInteractive',\n",
              "                                                     [key], {});\n",
              "          if (!dataTable) return;\n",
              "\n",
              "          const docLinkHtml = 'Like what you see? Visit the ' +\n",
              "            '<a target=\"_blank\" href=https://colab.research.google.com/notebooks/data_table.ipynb>data table notebook</a>'\n",
              "            + ' to learn more about interactive tables.';\n",
              "          element.innerHTML = '';\n",
              "          dataTable['output_type'] = 'display_data';\n",
              "          await google.colab.output.renderOutput(dataTable, element);\n",
              "          const docLink = document.createElement('div');\n",
              "          docLink.innerHTML = docLinkHtml;\n",
              "          element.appendChild(docLink);\n",
              "        }\n",
              "      </script>\n",
              "    </div>\n",
              "  </div>\n"
            ]
          },
          "metadata": {},
          "execution_count": 9
        }
      ],
      "source": [
        "#train_masks['Cloud_Label'] = \"\"\n",
        "for i in range(0, train_masks[\"Image_Label\"].count()):\n",
        "  temp_string = (train_masks.iat[i, 0]).split(\"_\",1)\n",
        "  train_masks.iat[i, 0] = temp_string[0]\n",
        "  train_masks.iat[i, 1] = temp_string[1]\n",
        "print(train_masks.head())\n",
        "train_masks.describe()\n",
        "\n"
      ]
    },
    {
      "cell_type": "code",
      "execution_count": 11,
      "metadata": {
        "colab": {
          "base_uri": "https://localhost:8080/"
        },
        "id": "67FRHbVY6xVJ",
        "outputId": "c5bfac9b-e851-4e6e-c3f4-c8c7972106c2"
      },
      "outputs": [
        {
          "output_type": "stream",
          "name": "stdout",
          "text": [
            "Verification failed - some files and their masks are missing in the CSV file\n"
          ]
        }
      ],
      "source": [
        "# Verification # 3 - Each and every train image file must have a mask entry in the CSV file\n",
        "train_imgs_list = os.listdir(TRAIN_IMGS_PATH) # Create a list of file names from the train images directory\n",
        "train_masks_list = train_masks[\"Image_Label\"].unique() # Create a list of unique train image labels from the CSV file\n",
        "result = all(elem in train_imgs_list for elem in train_masks_list) # Check if the files in the train images directory have a mask in the CSV as required\n",
        "\n",
        "if(result):\n",
        "  print(\"Verification  succeeded - all files have masks as required\")\n",
        "else:\n",
        "  print(\"Verification failed - some files and their masks are missing in the CSV file\")"
      ]
    },
    {
      "cell_type": "code",
      "execution_count": 12,
      "metadata": {
        "colab": {
          "base_uri": "https://localhost:8080/"
        },
        "id": "lH_uXSJw7PGr",
        "outputId": "bb145197-040e-4336-b595-af6004308e4c"
      },
      "outputs": [
        {
          "output_type": "stream",
          "name": "stdout",
          "text": [
            "There are 22184 rows in train df.\n",
            "There are 11836 rows with EncodedPixels.\n",
            "There are 10348 rows where EncodedPixels are null.\n"
          ]
        }
      ],
      "source": [
        "print('There are {} rows in train df.'.format(len(train_masks)))\n",
        "print('There are {} rows with EncodedPixels.'.format(train_masks.EncodedPixels.count()))\n",
        "print('There are {} rows where EncodedPixels are null.'.format(len(train_masks) - train_masks.EncodedPixels.count()))"
      ]
    },
    {
      "cell_type": "code",
      "execution_count": 14,
      "metadata": {
        "colab": {
          "base_uri": "https://localhost:8080/"
        },
        "id": "SPsVo5bM73_Q",
        "outputId": "c4444af0-3813-4113-d35b-f1d383bf20f5"
      },
      "outputs": [
        {
          "output_type": "stream",
          "name": "stdout",
          "text": [
            "There are 2781 fish clouds\n",
            "There are 2365 flower clouds\n",
            "There are 2939 gravel clouds\n",
            "There are 3751 sugar clouds\n"
          ]
        }
      ],
      "source": [
        "# Print  Labels\n",
        "fish = train_masks[train_masks['Cloud_Label'] == 'Fish'].EncodedPixels.count()\n",
        "flower = train_masks[train_masks['Cloud_Label'] == 'Flower'].EncodedPixels.count()\n",
        "gravel = train_masks[train_masks['Cloud_Label'] == 'Gravel'].EncodedPixels.count()\n",
        "sugar = train_masks[train_masks['Cloud_Label'] == 'Sugar'].EncodedPixels.count()\n",
        "\n",
        "print('There are {} fish clouds'.format(fish))\n",
        "print('There are {} flower clouds'.format(flower))\n",
        "print('There are {} gravel clouds'.format(gravel))\n",
        "print('There are {} sugar clouds'.format(sugar))"
      ]
    },
    {
      "cell_type": "code",
      "source": [
        "# Ploting a pie chart for Empty and Non-Empty Masks\n",
        "labels = 'Non-Empty', 'Empty'\n",
        "sizes = [train_masks.EncodedPixels.count(), len(train_masks) - train_masks.EncodedPixels.count()]\n",
        "explode = (0,0.1)\n",
        "\n",
        "figure, axis = plt.subplots(figsize=(6,6))\n",
        "axis.pie(sizes,explode=explode, labels=labels, autopct='%1.1f%%', shadow=True, startangle=90)\n",
        "axis.axis('equal')\n",
        "axis.set_title('Non-Empty and Empty Masks')\n",
        "\n",
        "plt.show() # Show the plot"
      ],
      "metadata": {
        "colab": {
          "base_uri": "https://localhost:8080/",
          "height": 521
        },
        "id": "-52WeVClvSwN",
        "outputId": "915bef36-2e8c-43f9-bad2-9c5efbe7a268"
      },
      "execution_count": 16,
      "outputs": [
        {
          "output_type": "display_data",
          "data": {
            "text/plain": [
              "<Figure size 600x600 with 1 Axes>"
            ],
            "image/png": "[encoded data removed]"
          },
          "metadata": {}
        }
      ]
    },
    {
      "cell_type": "code",
      "execution_count": 17,
      "metadata": {
        "colab": {
          "base_uri": "https://localhost:8080/",
          "height": 510
        },
        "id": "jrDRROEB8RFP",
        "outputId": "c901c8e2-6997-4299-af8d-481bbbbd94f0"
      },
      "outputs": [
        {
          "output_type": "display_data",
          "data": {
            "text/plain": [
              "<Figure size 2000x600 with 2 Axes>"
            ],
            "image/png": "[encoded data removed]"
          },
          "metadata": {}
        }
      ],
      "source": [
        "#Plot Cloud types\n",
        "sizes = [fish, flower, gravel, sugar]\n",
        "explode = (0.1, 0.1, 0.1, 0.1)\n",
        "\n",
        "figure, axis = plt.subplots(1,2, figsize=(20,6))\n",
        "axis[0].pie(sizes, explode=explode, labels=CLOUD_TYPES, autopct='%1.1f%%', shadow=True, startangle=90)\n",
        "axis[0].axis('equal')\n",
        "axis[0].set_title('Cloud Types', fontweight='bold')\n",
        "\n",
        "axis[1].bar(CLOUD_TYPES, sizes)\n",
        "axis[1].set_title('Frequency', fontweight='bold')\n",
        "axis[1].set_xlabel('Cloud Type')\n",
        "axis[1].set_ylabel('# of Images')\n",
        "\n",
        "plt.show()"
      ]
    },
    {
      "cell_type": "code",
      "execution_count": 18,
      "metadata": {
        "colab": {
          "base_uri": "https://localhost:8080/"
        },
        "id": "AyrXAK5W8jBi",
        "outputId": "a4874761-1de0-4b8f-8225-8df96e9c62b1"
      },
      "outputs": [
        {
          "output_type": "stream",
          "name": "stdout",
          "text": [
            "The mean number of labels per image is 2.134150739271547\n"
          ]
        }
      ],
      "source": [
        "\n",
        "## check no of labels in an image\n",
        "\n",
        "labels_per_image = train_masks.groupby('Image_Label')['EncodedPixels'].count()\n",
        "print('The mean number of labels per image is {}'.format(labels_per_image.mean()))"
      ]
    },
    {
      "cell_type": "code",
      "execution_count": 19,
      "metadata": {
        "colab": {
          "base_uri": "https://localhost:8080/",
          "height": 581
        },
        "id": "jOzZcD8E8w1w",
        "outputId": "929f308c-fce2-4f89-c9a4-fad38e59b91c"
      },
      "outputs": [
        {
          "output_type": "execute_result",
          "data": {
            "text/plain": [
              "Text(0.5, 0, 'How many class lables in a given image')"
            ]
          },
          "metadata": {},
          "execution_count": 19
        },
        {
          "output_type": "display_data",
          "data": {
            "text/plain": [
              "<Figure size 600x600 with 1 Axes>"
            ],
            "image/png": "[encoded data removed]"
          },
          "metadata": {}
        }
      ],
      "source": [
        "figure, axis = plt.subplots(figsize=(6, 6))\n",
        "axis.hist(labels_per_image)\n",
        "axis.set_title('Number of Labels per Image', fontweight='bold')\n",
        "plt.ylabel(\"# of Images\")\n",
        "plt.xlabel(\"How many class lables in a given image\")"
      ]
    },
    {
      "cell_type": "code",
      "execution_count": 19,
      "metadata": {
        "id": "uFgwmMl_AUCi"
      },
      "outputs": [],
      "source": []
    },
    {
      "cell_type": "code",
      "execution_count": 20,
      "metadata": {
        "colab": {
          "base_uri": "https://localhost:8080/",
          "height": 227
        },
        "id": "EsJQE6zcweTJ",
        "outputId": "26f59c09-439d-415f-9f5b-b6116e021179"
      },
      "outputs": [
        {
          "output_type": "stream",
          "name": "stdout",
          "text": [
            "(1400, 2100, 3)\n",
            "(1400, 2100, 3)\n",
            "(1400, 2100, 3)\n",
            "(1400, 2100, 3)\n",
            "(1400, 2100, 3)\n",
            "(1400, 2100, 3)\n"
          ]
        },
        {
          "output_type": "display_data",
          "data": {
            "text/plain": [
              "<Figure size 640x480 with 5 Axes>"
            ],
            "image/png": "[encoded data removed]"
          },
          "metadata": {}
        }
      ],
      "source": [
        "from tensorflow.keras.layers import Input, Lambda, Dense, Flatten\n",
        "from tensorflow.keras.models import Model\n",
        "from tensorflow.keras.applications.vgg16 import VGG16\n",
        "##from tensorflow.keras.applications.vgg19 import VGG19\n",
        "from tensorflow.keras.preprocessing import image\n",
        "from tensorflow.keras.preprocessing.image import ImageDataGenerator\n",
        "from tensorflow.keras.models import Sequential\n",
        "f, ax = plt.subplots(1, 5)\n",
        "for  i, file in enumerate(os.listdir(\"/content/drive/MyDrive/Assg2/train_images_sm1/\")[0:6]):\n",
        "    fullpath = TRAIN_IMGS_PATH+ \"/\" + file\n",
        "    #print(\"path\" ,fullpath, i)\n",
        "    img=cv2.imread(fullpath)\n",
        "    print(img.shape)\n",
        "    if i > 0:\n",
        "     plt.subplot(1, 5, i)\n",
        "     plt.imshow(img)\n",
        "\n"
      ]
    },
    {
      "cell_type": "code",
      "execution_count": 21,
      "metadata": {
        "colab": {
          "base_uri": "https://localhost:8080/",
          "height": 279
        },
        "id": "UY0lUhZoyOpq",
        "outputId": "2421fc14-581f-46ae-decf-02592a73ac1b"
      },
      "outputs": [
        {
          "output_type": "stream",
          "name": "stdout",
          "text": [
            "   Image_Label Cloud_Label                                      EncodedPixels\n",
            "0  0011165.jpg        Fish  264918 937 266318 937 267718 937 269118 937 27...\n",
            "1  0011165.jpg      Flower  1355565 1002 1356965 1002 1358365 1002 1359765...\n",
            "4  002be4f.jpg        Fish  233813 878 235213 878 236613 878 238010 881 23...\n",
            "5  002be4f.jpg      Flower  1339279 519 1340679 519 1342079 519 1343479 51...\n",
            "7  002be4f.jpg       Sugar  67495 350 68895 350 70295 350 71695 350 73095 ...\n"
          ]
        },
        {
          "output_type": "execute_result",
          "data": {
            "text/plain": [
              "        Image_Label Cloud_Label  \\\n",
              "count         11836       11836   \n",
              "unique         5546           4   \n",
              "top     24dd99c.jpg       Sugar   \n",
              "freq              4        3751   \n",
              "\n",
              "                                            EncodedPixels  \n",
              "count                                               11836  \n",
              "unique                                              11836  \n",
              "top     264918 937 266318 937 267718 937 269118 937 27...  \n",
              "freq                                                    1  "
            ],
            "text/html": [
              "\n",
              "\n",
              "  <div id=\"df-81d8cc9f-666c-47a9-944d-a22db52ebd9d\">\n",
              "    <div class=\"colab-df-container\">\n",
              "      <div>\n",
              "<style scoped>\n",
              "    .dataframe tbody tr th:only-of-type {\n",
              "        vertical-align: middle;\n",
              "    }\n",
              "\n",
              "    .dataframe tbody tr th {\n",
              "        vertical-align: top;\n",
              "    }\n",
              "\n",
              "    .dataframe thead th {\n",
              "        text-align: right;\n",
              "    }\n",
              "</style>\n",
              "<table border=\"1\" class=\"dataframe\">\n",
              "  <thead>\n",
              "    <tr style=\"text-align: right;\">\n",
              "      <th></th>\n",
              "      <th>Image_Label</th>\n",
              "      <th>Cloud_Label</th>\n",
              "      <th>EncodedPixels</th>\n",
              "    </tr>\n",
              "  </thead>\n",
              "  <tbody>\n",
              "    <tr>\n",
              "      <th>count</th>\n",
              "      <td>11836</td>\n",
              "      <td>11836</td>\n",
              "      <td>11836</td>\n",
              "    </tr>\n",
              "    <tr>\n",
              "      <th>unique</th>\n",
              "      <td>5546</td>\n",
              "      <td>4</td>\n",
              "      <td>11836</td>\n",
              "    </tr>\n",
              "    <tr>\n",
              "      <th>top</th>\n",
              "      <td>24dd99c.jpg</td>\n",
              "      <td>Sugar</td>\n",
              "      <td>264918 937 266318 937 267718 937 269118 937 27...</td>\n",
              "    </tr>\n",
              "    <tr>\n",
              "      <th>freq</th>\n",
              "      <td>4</td>\n",
              "      <td>3751</td>\n",
              "      <td>1</td>\n",
              "    </tr>\n",
              "  </tbody>\n",
              "</table>\n",
              "</div>\n",
              "      <button class=\"colab-df-convert\" onclick=\"convertToInteractive('df-81d8cc9f-666c-47a9-944d-a22db52ebd9d')\"\n",
              "              title=\"Convert this dataframe to an interactive table.\"\n",
              "              style=\"display:none;\">\n",
              "\n",
              "  <svg xmlns=\"http://www.w3.org/2000/svg\" height=\"24px\"viewBox=\"0 0 24 24\"\n",
              "       width=\"24px\">\n",
              "    <path d=\"M0 0h24v24H0V0z\" fill=\"none\"/>\n",
              "    <path d=\"M18.56 5.44l.94 2.06.94-2.06 2.06-.94-2.06-.94-.94-2.06-.94 2.06-2.06.94zm-11 1L8.5 8.5l.94-2.06 2.06-.94-2.06-.94L8.5 2.5l-.94 2.06-2.06.94zm10 10l.94 2.06.94-2.06 2.06-.94-2.06-.94-.94-2.06-.94 2.06-2.06.94z\"/><path d=\"M17.41 7.96l-1.37-1.37c-.4-.4-.92-.59-1.43-.59-.52 0-1.04.2-1.43.59L10.3 9.45l-7.72 7.72c-.78.78-.78 2.05 0 2.83L4 21.41c.39.39.9.59 1.41.59.51 0 1.02-.2 1.41-.59l7.78-7.78 2.81-2.81c.8-.78.8-2.07 0-2.86zM5.41 20L4 18.59l7.72-7.72 1.47 1.35L5.41 20z\"/>\n",
              "  </svg>\n",
              "      </button>\n",
              "\n",
              "\n",
              "\n",
              "    <div id=\"df-0657ac0f-cdfa-466e-b84f-0f208a5e89a8\">\n",
              "      <button class=\"colab-df-quickchart\" onclick=\"quickchart('df-0657ac0f-cdfa-466e-b84f-0f208a5e89a8')\"\n",
              "              title=\"Suggest charts.\"\n",
              "              style=\"display:none;\">\n",
              "\n",
              "<svg xmlns=\"http://www.w3.org/2000/svg\" height=\"24px\"viewBox=\"0 0 24 24\"\n",
              "     width=\"24px\">\n",
              "    <g>\n",
              "        <path d=\"M19 3H5c-1.1 0-2 .9-2 2v14c0 1.1.9 2 2 2h14c1.1 0 2-.9 2-2V5c0-1.1-.9-2-2-2zM9 17H7v-7h2v7zm4 0h-2V7h2v10zm4 0h-2v-4h2v4z\"/>\n",
              "    </g>\n",
              "</svg>\n",
              "      </button>\n",
              "    </div>\n",
              "\n",
              "<style>\n",
              "  .colab-df-quickchart {\n",
              "    background-color: #E8F0FE;\n",
              "    border: none;\n",
              "    border-radius: 50%;\n",
              "    cursor: pointer;\n",
              "    display: none;\n",
              "    fill: #1967D2;\n",
              "    height: 32px;\n",
              "    padding: 0 0 0 0;\n",
              "    width: 32px;\n",
              "  }\n",
              "\n",
              "  .colab-df-quickchart:hover {\n",
              "    background-color: #E2EBFA;\n",
              "    box-shadow: 0px 1px 2px rgba(60, 64, 67, 0.3), 0px 1px 3px 1px rgba(60, 64, 67, 0.15);\n",
              "    fill: #174EA6;\n",
              "  }\n",
              "\n",
              "  [theme=dark] .colab-df-quickchart {\n",
              "    background-color: #3B4455;\n",
              "    fill: #D2E3FC;\n",
              "  }\n",
              "\n",
              "  [theme=dark] .colab-df-quickchart:hover {\n",
              "    background-color: #434B5C;\n",
              "    box-shadow: 0px 1px 3px 1px rgba(0, 0, 0, 0.15);\n",
              "    filter: drop-shadow(0px 1px 2px rgba(0, 0, 0, 0.3));\n",
              "    fill: #FFFFFF;\n",
              "  }\n",
              "</style>\n",
              "\n",
              "    <script>\n",
              "      async function quickchart(key) {\n",
              "        const containerElement = document.querySelector('#' + key);\n",
              "        const charts = await google.colab.kernel.invokeFunction(\n",
              "            'suggestCharts', [key], {});\n",
              "      }\n",
              "    </script>\n",
              "\n",
              "      <script>\n",
              "\n",
              "function displayQuickchartButton(domScope) {\n",
              "  let quickchartButtonEl =\n",
              "    domScope.querySelector('#df-0657ac0f-cdfa-466e-b84f-0f208a5e89a8 button.colab-df-quickchart');\n",
              "  quickchartButtonEl.style.display =\n",
              "    google.colab.kernel.accessAllowed ? 'block' : 'none';\n",
              "}\n",
              "\n",
              "        displayQuickchartButton(document);\n",
              "      </script>\n",
              "      <style>\n",
              "    .colab-df-container {\n",
              "      display:flex;\n",
              "      flex-wrap:wrap;\n",
              "      gap: 12px;\n",
              "    }\n",
              "\n",
              "    .colab-df-convert {\n",
              "      background-color: #E8F0FE;\n",
              "      border: none;\n",
              "      border-radius: 50%;\n",
              "      cursor: pointer;\n",
              "      display: none;\n",
              "      fill: #1967D2;\n",
              "      height: 32px;\n",
              "      padding: 0 0 0 0;\n",
              "      width: 32px;\n",
              "    }\n",
              "\n",
              "    .colab-df-convert:hover {\n",
              "      background-color: #E2EBFA;\n",
              "      box-shadow: 0px 1px 2px rgba(60, 64, 67, 0.3), 0px 1px 3px 1px rgba(60, 64, 67, 0.15);\n",
              "      fill: #174EA6;\n",
              "    }\n",
              "\n",
              "    [theme=dark] .colab-df-convert {\n",
              "      background-color: #3B4455;\n",
              "      fill: #D2E3FC;\n",
              "    }\n",
              "\n",
              "    [theme=dark] .colab-df-convert:hover {\n",
              "      background-color: #434B5C;\n",
              "      box-shadow: 0px 1px 3px 1px rgba(0, 0, 0, 0.15);\n",
              "      filter: drop-shadow(0px 1px 2px rgba(0, 0, 0, 0.3));\n",
              "      fill: #FFFFFF;\n",
              "    }\n",
              "  </style>\n",
              "\n",
              "      <script>\n",
              "        const buttonEl =\n",
              "          document.querySelector('#df-81d8cc9f-666c-47a9-944d-a22db52ebd9d button.colab-df-convert');\n",
              "        buttonEl.style.display =\n",
              "          google.colab.kernel.accessAllowed ? 'block' : 'none';\n",
              "\n",
              "        async function convertToInteractive(key) {\n",
              "          const element = document.querySelector('#df-81d8cc9f-666c-47a9-944d-a22db52ebd9d');\n",
              "          const dataTable =\n",
              "            await google.colab.kernel.invokeFunction('convertToInteractive',\n",
              "                                                     [key], {});\n",
              "          if (!dataTable) return;\n",
              "\n",
              "          const docLinkHtml = 'Like what you see? Visit the ' +\n",
              "            '<a target=\"_blank\" href=https://colab.research.google.com/notebooks/data_table.ipynb>data table notebook</a>'\n",
              "            + ' to learn more about interactive tables.';\n",
              "          element.innerHTML = '';\n",
              "          dataTable['output_type'] = 'display_data';\n",
              "          await google.colab.output.renderOutput(dataTable, element);\n",
              "          const docLink = document.createElement('div');\n",
              "          docLink.innerHTML = docLinkHtml;\n",
              "          element.appendChild(docLink);\n",
              "        }\n",
              "      </script>\n",
              "    </div>\n",
              "  </div>\n"
            ]
          },
          "metadata": {},
          "execution_count": 21
        }
      ],
      "source": [
        "# network configuration parameters\n",
        "# original image is 1600x256, so we will resize it\n",
        "img_w = 224 # resized weidth\n",
        "img_h = 224 # resized height\n",
        "batch_size = 16\n",
        "epochs = 10\n",
        "# batch size for training unet\n",
        "k_size = 3 # kernel size 3x3\n",
        "val_size = .20 # split of training set between train and validation set\n",
        "# network hyper parameters\n",
        "smooth = 1.\n",
        "dropout_rate = 0.\n",
        "#train_masks = train_masks.fillna(-1)\n",
        "train_masks = train_masks.dropna(subset=['EncodedPixels'])\n",
        "print(train_masks.head())\n",
        "train_masks.describe()"
      ]
    },
    {
      "cell_type": "code",
      "execution_count": 22,
      "metadata": {
        "id": "pHSEUxlTI05H"
      },
      "outputs": [],
      "source": [
        "# This function decodes the given mask as a string input from the CSV File\n",
        "def rle_decode(mask_rle: str = '', shape: tuple = (1400, 2100)):\n",
        "  '''\n",
        "  Decode rle encoded mask.\n",
        "\n",
        "  :param mask_rle: run-length as string formatted (start length)\n",
        "  :param shape: (height, width) of array to return\n",
        "  Returns numpy array, 1 - mask, 0 - background\n",
        "  '''\n",
        "  if(isinstance(mask_rle, str)): # String datatype then it has encoded pixels, extract mask\n",
        "    s = mask_rle.split()\n",
        "    starts, lengths = [np.asarray(x, dtype=int) for x in (s[0:][::2], s[1:][::2])]\n",
        "    starts -= 1\n",
        "    ends = starts + lengths\n",
        "    img = np.zeros(shape[0] * shape[1], dtype=np.uint8)\n",
        "    for lo, hi in zip(starts, ends):\n",
        "        img[lo:hi] = 1\n",
        "  else: # NaN, Float type, no mask, so zero numpy array\n",
        "    img = np.zeros((1400, 2100))\n",
        "\n",
        "  return img.reshape(shape, order='F')"
      ]
    },
    {
      "cell_type": "code",
      "execution_count": 23,
      "metadata": {
        "id": "0tu4SyxoaJun"
      },
      "outputs": [],
      "source": [
        "#function to generate the mask using encoded pixels from csv #\n",
        "\n",
        "def rle_to_mask(rle_string,height,width):\n",
        "    '''\n",
        "    convert RLE(run length encoding) string to numpy array\n",
        "\n",
        "    Parameters:\n",
        "    rleString (str): Description of arg1\n",
        "    height (int): height of the mask\n",
        "    width (int): width of the mask\n",
        "\n",
        "    Returns:\n",
        "    numpy.array: numpy array of the mask\n",
        "    '''\n",
        "    rows, cols = height, width\n",
        "    if rle_string == -1:\n",
        "        return np.zeros((height, width))\n",
        "    else:\n",
        "        #val = math.isnan(int(rle_string))\n",
        "        #if val == False:\n",
        "          rleNumbers = [int(numstring) for numstring in rle_string.split(' ')]\n",
        "          if len(np.array(rleNumbers)) != 1 :\n",
        "           rlePairs = np.array(rleNumbers).reshape(-1,2)\n",
        "           img = np.zeros(rows*cols,dtype=np.uint8)\n",
        "           for index,length in rlePairs:\n",
        "              index -= 1\n",
        "              img[index:index+length] = 255\n",
        "           img = img.reshape(cols,rows)\n",
        "           img = img.T\n",
        "           return img"
      ]
    },
    {
      "cell_type": "code",
      "execution_count": 23,
      "metadata": {
        "id": "zFpsUJ6Lcdj6"
      },
      "outputs": [],
      "source": []
    },
    {
      "cell_type": "code",
      "execution_count": 24,
      "metadata": {
        "id": "nyn84d-_txkv"
      },
      "outputs": [],
      "source": [
        "#train_set_list = load_dataset(TRAIN_IMGS_PATH, train_set) # load the dataset by specifying the train directory\n",
        "#train_set_list.prepare()\n",
        "#print('Train: %d' % len(train_set_list.image_ids))\n",
        "\n",
        "\n",
        "# Thanks to the authors of: https://www.kaggle.com/paulorzp/rle-functions-run-lenght-encode-decode\n",
        "def mask_to_rle(mask):\n",
        "    '''\n",
        "    Convert a mask into RLE\n",
        "\n",
        "    Parameters:\n",
        "    mask (numpy.array): binary mask of numpy array where 1 - mask, 0 - background\n",
        "\n",
        "    Returns:\n",
        "    sring: run length encoding\n",
        "    '''\n",
        "    pixels= mask.T.flatten()\n",
        "    pixels = np.concatenate([[0], pixels, [0]])\n",
        "    runs = np.where(pixels[1:] != pixels[:-1])[0] + 1\n",
        "    runs[1::2] -= runs[::2]\n",
        "    return ' '.join(str(x) for x in runs)"
      ]
    },
    {
      "cell_type": "code",
      "execution_count": 25,
      "metadata": {
        "id": "3HaQdpJebMgF"
      },
      "outputs": [],
      "source": [
        "# This function decodes the given mask as a string input from the CSV File\n",
        "def rle_decode(mask_rle,height,width):\n",
        "  '''\n",
        "  Decode rle encoded mask.\n",
        "\n",
        "  :param mask_rle: run-length as string formatted (start length)\n",
        "  :param shape: (height, width) of array to return\n",
        "  Returns numpy array, 1 - mask, 0 - background\n",
        "  '''\n",
        "  if(isinstance(mask_rle, str)): # String datatype then it has encoded pixels, extract mask\n",
        "    s = mask_rle.split()\n",
        "    starts, lengths = [np.asarray(x, dtype=int) for x in (s[0:][::2], s[1:][::2])]\n",
        "    starts -= 1\n",
        "    ends = starts + lengths\n",
        "    img = np.zeros(height * width, dtype=np.uint8)\n",
        "    for lo, hi in zip(starts, ends):\n",
        "        img[lo:hi] = 1\n",
        "  else: # NaN, Float type, no mask, so zero numpy array\n",
        "    img = np.zeros((1400, 2100))\n",
        "    img.reshape(height,width)\n",
        "    img = img.T\n",
        "    return img\n"
      ]
    },
    {
      "cell_type": "code",
      "execution_count": 26,
      "metadata": {
        "id": "Ryyp4HGsueBj"
      },
      "outputs": [],
      "source": [
        "class DataGenerator(Sequence):\n",
        "    def __init__(self, list_ids, labels, image_dir, batch_size=16,\n",
        "                 img_h=224, img_w=224, shuffle=True):\n",
        "\n",
        "        self.list_ids = list_ids\n",
        "        self.labels = labels\n",
        "        self.image_dir = image_dir\n",
        "        self.batch_size = batch_size\n",
        "        self.img_h = img_h\n",
        "        self.img_w = img_w\n",
        "        self.shuffle = shuffle\n",
        "        self.on_epoch_end()\n",
        "\n",
        "    def __len__(self):\n",
        "        'denotes the number of batches per epoch'\n",
        "        return int(np.floor(len(self.list_ids)) / self.batch_size)\n",
        "\n",
        "    def __getitem__(self, index):\n",
        "        'generate one batch of data'\n",
        "        #print(\"****************\" ,index)\n",
        "        indexes = self.indexes[index*self.batch_size:(index+1)*self.batch_size]\n",
        "        # get list of IDs\n",
        "        list_ids_temp = [self.list_ids[k] for k in indexes]\n",
        "        #print(list_ids_temp[0])\n",
        "        # generate data\n",
        "        X, y = self.__data_generation(list_ids_temp)\n",
        "        # return data\n",
        "        return X, y\n",
        "\n",
        "    def on_epoch_end(self):\n",
        "        'update ended after each epoch'\n",
        "        self.indexes = np.arange(len(self.list_ids))\n",
        "        if self.shuffle:\n",
        "            np.random.shuffle(self.indexes)\n",
        "\n",
        "    def __data_generation(self, list_ids_temp):\n",
        "        'generate data containing batch_size samples'\n",
        "        image_resized = 0.0\n",
        "        X = np.empty((self.batch_size, self.img_h, self.img_w, 3))\n",
        "        y = np.empty((self.batch_size, self.img_h, self.img_w, 4))\n",
        "        #print(\" __data_generation inside \")\n",
        "        for idx, id in enumerate(list_ids_temp):\n",
        "            file_path =  os.path.join(self.image_dir, id)\n",
        "            image = cv2.imread(file_path, 0)\n",
        "            if image is not None :\n",
        "              try:\n",
        "                image_resized = cv2.resize(image, (self.img_w, self.img_h))\n",
        "                image_resized = np.array(image_resized, dtype=np.float64)\n",
        "                # standardization of the image\n",
        "                image_resized -= image_resized.mean()\n",
        "                image_resized /= image_resized.std()\n",
        "                #img_h = cv2.flip(img, 1)\n",
        "              except Exception as e:\n",
        "                print(str(e))\n",
        "\n",
        "              mask = np.empty((img_h, img_w, 4))\n",
        "              for idm, image_class in enumerate(['Fish', 'Flower', 'Gravel', 'Sugar']):\n",
        "\n",
        "\n",
        "                  temp = train_masks[train_masks.Image_Label == id]\n",
        "                  for i in range(0,len(temp.values)): # loop through all matching values in frame\n",
        "                    cloud_type = temp.values[i][1] # extract cloud type\n",
        "                    rle = temp.values[i][2] # extract encoded pixels\n",
        "                    #mask_image = rle_decode(encoded_pix)\n",
        "                    # if there is no mask create empty mask\n",
        "                    if rle == -1:\n",
        "                      class_mask = np.zeros((2100, 1400))\n",
        "                    else:\n",
        "                      class_mask = rle_to_mask(str(rle), width=2100, height=1400)\n",
        "                      try:\n",
        "                        #if(class_mask != None)\n",
        "                        class_mask_resized = cv2.resize(class_mask, (self.img_w, self.img_h))\n",
        "                      except Exception as e:\n",
        "                        print(str(e))\n",
        "                      mask[...,idm] = class_mask_resized\n",
        "                      #print(\" image_resized  ************* \",image_resized)\n",
        "\n",
        "              X[idx,] = np.expand_dims(image_resized, axis=2)\n",
        "              y[idx,] = mask\n",
        "\n",
        "        # normalize Y\n",
        "        y = (y > 0).astype(int)\n",
        "        return X, y"
      ]
    },
    {
      "cell_type": "code",
      "execution_count": 27,
      "metadata": {
        "id": "ZW7FGc5LvUSi"
      },
      "outputs": [],
      "source": [
        "\n",
        "# Split the train set into 80% training and 20% validation set\n",
        "#train_set, val_set = split_dataset(train_imgs_list, 0.80)\n",
        "\n",
        "train_image_ids = train_masks['Image_Label'].unique()\n",
        "X_train, X_val = train_test_split(train_image_ids, test_size=.20, random_state=42)"
      ]
    },
    {
      "cell_type": "code",
      "execution_count": 28,
      "metadata": {
        "id": "eNFK69wEvAle"
      },
      "outputs": [],
      "source": [
        "def viz_cloud_img_mask(img, masks):\n",
        "    img = cv2.cvtColor(img.astype('float32'), cv2.COLOR_BGR2RGB)\n",
        "    fig, ax = plt.subplots(nrows=1, ncols=4, sharey=True, figsize=(20,10))\n",
        "    cmaps = [\"Reds\", \"Blues\", \"Greens\", \"Purples\"]\n",
        "    for idx, mask in enumerate(masks):\n",
        "        ax[idx].imshow(img)\n",
        "        ax[idx].imshow(mask, alpha=0.3, cmap=cmaps[idx])"
      ]
    },
    {
      "cell_type": "code",
      "execution_count": 29,
      "metadata": {
        "id": "RxyQxZ6avkAy"
      },
      "outputs": [],
      "source": [
        "masks = {}\n",
        "for index, row in train_masks[train_masks['EncodedPixels']!=-1].iterrows():\n",
        "    #masks[row['Image_Label']] = row['EncodedPixels']\n",
        "    masks[row['Cloud_Label']] = row['EncodedPixels']"
      ]
    },
    {
      "cell_type": "code",
      "execution_count": 30,
      "metadata": {
        "id": "heYbZ_OYwx4N"
      },
      "outputs": [],
      "source": [
        "params = {'img_h': img_h,\n",
        "          'img_w': img_w,\n",
        "          'image_dir': TRAIN_IMGS_PATH,\n",
        "          'batch_size': 16,\n",
        "          'shuffle': True,          }\n",
        "\n",
        "# Get Generators\n",
        "training_generator = DataGenerator(X_train, masks, **params)\n",
        "validation_generator = DataGenerator(X_val, masks, **params)\n"
      ]
    },
    {
      "cell_type": "code",
      "execution_count": 31,
      "metadata": {
        "colab": {
          "base_uri": "https://localhost:8080/"
        },
        "id": "METsyFMuxP2h",
        "outputId": "aab239dd-b31e-4522-e44a-b1ead3159f77"
      },
      "outputs": [
        {
          "output_type": "stream",
          "name": "stdout",
          "text": [
            "(16, 224, 224, 3) (16, 224, 224, 4)\n"
          ]
        }
      ],
      "source": [
        "#x, y = training_generator.__getitem__(0)\n",
        "x, y = training_generator.__getitem__(0)\n",
        "print(x.shape, y.shape)\n",
        "\n",
        "for ix in range(0,batch_size):\n",
        "    if y[ix].sum() > 0:\n",
        "        #print(\"newww\")\n",
        "        img = x[ix]\n",
        "        masks_temp = [y[ix][...,i] for i in range(0,4)]\n",
        "        viz_cloud_img_mask(img, masks_temp)"
      ]
    },
    {
      "cell_type": "code",
      "execution_count": 32,
      "metadata": {
        "id": "8jRFrzA787NC"
      },
      "outputs": [],
      "source": [
        "from tensorflow.keras.layers import Conv2D, BatchNormalization, Activation, MaxPool2D, Conv2DTranspose, Concatenate, Input, Dropout\n",
        "\n",
        "def conv_block(inputs,filterCount):\n",
        "    x = Conv2D(filterCount * 2,3,padding=\"same\")(inputs)\n",
        "    x = BatchNormalization()(x)\n",
        "    x = Activation(\"relu\")(x)\n",
        "\n",
        "    x = Conv2D(filterCount * 2,3,padding=\"same\")(x)\n",
        "    x = BatchNormalization()(x)\n",
        "    x = Activation(\"relu\")(x)\n",
        "    x = Dropout(0.2)(x)\n",
        "    return x"
      ]
    },
    {
      "cell_type": "code",
      "execution_count": 33,
      "metadata": {
        "id": "AwF3X5IX9UIQ"
      },
      "outputs": [],
      "source": [
        "def decoder_block(inputs,skip_features,filter_count):\n",
        "\n",
        "    x = Conv2DTranspose(filter_count, (2, 2), strides=2, padding=\"same\")(inputs)\n",
        "    x = Concatenate()([x, skip_features])\n",
        "    x = conv_block(x, filter_count)\n",
        "    x = Concatenate()([x, skip_features])\n",
        "    return x"
      ]
    },
    {
      "cell_type": "code",
      "execution_count": 34,
      "metadata": {
        "id": "UYhhPsKm1bNi"
      },
      "outputs": [],
      "source": [
        "\n",
        "def unet_vgg16(input_shape):\n",
        "    inputs = Input(input_shape)\n",
        "    vgg16 = VGG16(include_top=False,weights='imagenet',input_tensor = inputs)\n",
        "    for layer in vgg16.layers:\n",
        "     layer.trainable = False\n",
        "    # the encoder\n",
        "    skip1 = vgg16.get_layer(\"block1_conv2\").output\n",
        "    print(skip1.shape)\n",
        "    skip2 = vgg16.get_layer(\"block2_conv2\").output\n",
        "    skip3 = vgg16.get_layer(\"block3_conv3\").output\n",
        "    skip4 = vgg16.get_layer(\"block4_conv3\").output\n",
        "    # the center\n",
        "    center = vgg16.get_layer(\"block5_conv3\").output\n",
        "\n",
        "    # the decoder\n",
        "    d1 = decoder_block(center,skip4,512)\n",
        "    d2 = decoder_block(d1,skip3,256)\n",
        "    d3 = decoder_block(d2,skip2,128)\n",
        "    d4 = decoder_block(d3,skip1,64)\n",
        "\n",
        "    prediction = Dense(4, activation='softmax')(d4)\n",
        "    model = Model(inputs=vgg16.input, outputs=prediction)\n",
        "    return model\n",
        "\n"
      ]
    },
    {
      "cell_type": "code",
      "execution_count": 35,
      "metadata": {
        "colab": {
          "base_uri": "https://localhost:8080/"
        },
        "id": "_OIFdeui1hrj",
        "outputId": "586c5e09-c6f1-47eb-b521-049649fddcf8"
      },
      "outputs": [
        {
          "output_type": "stream",
          "name": "stdout",
          "text": [
            "Downloading data from https://storage.googleapis.com/tensorflow/keras-applications/vgg16/vgg16_weights_tf_dim_ordering_tf_kernels_notop.h5\n",
            "58889256/58889256 [==============================] - 0s 0us/step\n",
            "(None, 224, 224, 64)\n",
            "Model: \"model\"\n",
            "__________________________________________________________________________________________________\n",
            " Layer (type)                   Output Shape         Param #     Connected to                     \n",
            "==================================================================================================\n",
            " input_1 (InputLayer)           [(None, 224, 224, 3  0           []                               \n",
            "                                )]                                                                \n",
            "                                                                                                  \n",
            " block1_conv1 (Conv2D)          (None, 224, 224, 64  1792        ['input_1[0][0]']                \n",
            "                                )                                                                 \n",
            "                                                                                                  \n",
            " block1_conv2 (Conv2D)          (None, 224, 224, 64  36928       ['block1_conv1[0][0]']           \n",
            "                                )                                                                 \n",
            "                                                                                                  \n",
            " block1_pool (MaxPooling2D)     (None, 112, 112, 64  0           ['block1_conv2[0][0]']           \n",
            "                                )                                                                 \n",
            "                                                                                                  \n",
            " block2_conv1 (Conv2D)          (None, 112, 112, 12  73856       ['block1_pool[0][0]']            \n",
            "                                8)                                                                \n",
            "                                                                                                  \n",
            " block2_conv2 (Conv2D)          (None, 112, 112, 12  147584      ['block2_conv1[0][0]']           \n",
            "                                8)                                                                \n",
            "                                                                                                  \n",
            " block2_pool (MaxPooling2D)     (None, 56, 56, 128)  0           ['block2_conv2[0][0]']           \n",
            "                                                                                                  \n",
            " block3_conv1 (Conv2D)          (None, 56, 56, 256)  295168      ['block2_pool[0][0]']            \n",
            "                                                                                                  \n",
            " block3_conv2 (Conv2D)          (None, 56, 56, 256)  590080      ['block3_conv1[0][0]']           \n",
            "                                                                                                  \n",
            " block3_conv3 (Conv2D)          (None, 56, 56, 256)  590080      ['block3_conv2[0][0]']           \n",
            "                                                                                                  \n",
            " block3_pool (MaxPooling2D)     (None, 28, 28, 256)  0           ['block3_conv3[0][0]']           \n",
            "                                                                                                  \n",
            " block4_conv1 (Conv2D)          (None, 28, 28, 512)  1180160     ['block3_pool[0][0]']            \n",
            "                                                                                                  \n",
            " block4_conv2 (Conv2D)          (None, 28, 28, 512)  2359808     ['block4_conv1[0][0]']           \n",
            "                                                                                                  \n",
            " block4_conv3 (Conv2D)          (None, 28, 28, 512)  2359808     ['block4_conv2[0][0]']           \n",
            "                                                                                                  \n",
            " block4_pool (MaxPooling2D)     (None, 14, 14, 512)  0           ['block4_conv3[0][0]']           \n",
            "                                                                                                  \n",
            " block5_conv1 (Conv2D)          (None, 14, 14, 512)  2359808     ['block4_pool[0][0]']            \n",
            "                                                                                                  \n",
            " block5_conv2 (Conv2D)          (None, 14, 14, 512)  2359808     ['block5_conv1[0][0]']           \n",
            "                                                                                                  \n",
            " block5_conv3 (Conv2D)          (None, 14, 14, 512)  2359808     ['block5_conv2[0][0]']           \n",
            "                                                                                                  \n",
            " conv2d_transpose (Conv2DTransp  (None, 28, 28, 512)  1049088    ['block5_conv3[0][0]']           \n",
            " ose)                                                                                             \n",
            "                                                                                                  \n",
            " concatenate (Concatenate)      (None, 28, 28, 1024  0           ['conv2d_transpose[0][0]',       \n",
            "                                )                                 'block4_conv3[0][0]']           \n",
            "                                                                                                  \n",
            " conv2d (Conv2D)                (None, 28, 28, 1024  9438208     ['concatenate[0][0]']            \n",
            "                                )                                                                 \n",
            "                                                                                                  \n",
            " batch_normalization (BatchNorm  (None, 28, 28, 1024  4096       ['conv2d[0][0]']                 \n",
            " alization)                     )                                                                 \n",
            "                                                                                                  \n",
            " activation (Activation)        (None, 28, 28, 1024  0           ['batch_normalization[0][0]']    \n",
            "                                )                                                                 \n",
            "                                                                                                  \n",
            " conv2d_1 (Conv2D)              (None, 28, 28, 1024  9438208     ['activation[0][0]']             \n",
            "                                )                                                                 \n",
            "                                                                                                  \n",
            " batch_normalization_1 (BatchNo  (None, 28, 28, 1024  4096       ['conv2d_1[0][0]']               \n",
            " rmalization)                   )                                                                 \n",
            "                                                                                                  \n",
            " activation_1 (Activation)      (None, 28, 28, 1024  0           ['batch_normalization_1[0][0]']  \n",
            "                                )                                                                 \n",
            "                                                                                                  \n",
            " dropout (Dropout)              (None, 28, 28, 1024  0           ['activation_1[0][0]']           \n",
            "                                )                                                                 \n",
            "                                                                                                  \n",
            " concatenate_1 (Concatenate)    (None, 28, 28, 1536  0           ['dropout[0][0]',                \n",
            "                                )                                 'block4_conv3[0][0]']           \n",
            "                                                                                                  \n",
            " conv2d_transpose_1 (Conv2DTran  (None, 56, 56, 256)  1573120    ['concatenate_1[0][0]']          \n",
            " spose)                                                                                           \n",
            "                                                                                                  \n",
            " concatenate_2 (Concatenate)    (None, 56, 56, 512)  0           ['conv2d_transpose_1[0][0]',     \n",
            "                                                                  'block3_conv3[0][0]']           \n",
            "                                                                                                  \n",
            " conv2d_2 (Conv2D)              (None, 56, 56, 512)  2359808     ['concatenate_2[0][0]']          \n",
            "                                                                                                  \n",
            " batch_normalization_2 (BatchNo  (None, 56, 56, 512)  2048       ['conv2d_2[0][0]']               \n",
            " rmalization)                                                                                     \n",
            "                                                                                                  \n",
            " activation_2 (Activation)      (None, 56, 56, 512)  0           ['batch_normalization_2[0][0]']  \n",
            "                                                                                                  \n",
            " conv2d_3 (Conv2D)              (None, 56, 56, 512)  2359808     ['activation_2[0][0]']           \n",
            "                                                                                                  \n",
            " batch_normalization_3 (BatchNo  (None, 56, 56, 512)  2048       ['conv2d_3[0][0]']               \n",
            " rmalization)                                                                                     \n",
            "                                                                                                  \n",
            " activation_3 (Activation)      (None, 56, 56, 512)  0           ['batch_normalization_3[0][0]']  \n",
            "                                                                                                  \n",
            " dropout_1 (Dropout)            (None, 56, 56, 512)  0           ['activation_3[0][0]']           \n",
            "                                                                                                  \n",
            " concatenate_3 (Concatenate)    (None, 56, 56, 768)  0           ['dropout_1[0][0]',              \n",
            "                                                                  'block3_conv3[0][0]']           \n",
            "                                                                                                  \n",
            " conv2d_transpose_2 (Conv2DTran  (None, 112, 112, 12  393344     ['concatenate_3[0][0]']          \n",
            " spose)                         8)                                                                \n",
            "                                                                                                  \n",
            " concatenate_4 (Concatenate)    (None, 112, 112, 25  0           ['conv2d_transpose_2[0][0]',     \n",
            "                                6)                                'block2_conv2[0][0]']           \n",
            "                                                                                                  \n",
            " conv2d_4 (Conv2D)              (None, 112, 112, 25  590080      ['concatenate_4[0][0]']          \n",
            "                                6)                                                                \n",
            "                                                                                                  \n",
            " batch_normalization_4 (BatchNo  (None, 112, 112, 25  1024       ['conv2d_4[0][0]']               \n",
            " rmalization)                   6)                                                                \n",
            "                                                                                                  \n",
            " activation_4 (Activation)      (None, 112, 112, 25  0           ['batch_normalization_4[0][0]']  \n",
            "                                6)                                                                \n",
            "                                                                                                  \n",
            " conv2d_5 (Conv2D)              (None, 112, 112, 25  590080      ['activation_4[0][0]']           \n",
            "                                6)                                                                \n",
            "                                                                                                  \n",
            " batch_normalization_5 (BatchNo  (None, 112, 112, 25  1024       ['conv2d_5[0][0]']               \n",
            " rmalization)                   6)                                                                \n",
            "                                                                                                  \n",
            " activation_5 (Activation)      (None, 112, 112, 25  0           ['batch_normalization_5[0][0]']  \n",
            "                                6)                                                                \n",
            "                                                                                                  \n",
            " dropout_2 (Dropout)            (None, 112, 112, 25  0           ['activation_5[0][0]']           \n",
            "                                6)                                                                \n",
            "                                                                                                  \n",
            " concatenate_5 (Concatenate)    (None, 112, 112, 38  0           ['dropout_2[0][0]',              \n",
            "                                4)                                'block2_conv2[0][0]']           \n",
            "                                                                                                  \n",
            " conv2d_transpose_3 (Conv2DTran  (None, 224, 224, 64  98368      ['concatenate_5[0][0]']          \n",
            " spose)                         )                                                                 \n",
            "                                                                                                  \n",
            " concatenate_6 (Concatenate)    (None, 224, 224, 12  0           ['conv2d_transpose_3[0][0]',     \n",
            "                                8)                                'block1_conv2[0][0]']           \n",
            "                                                                                                  \n",
            " conv2d_6 (Conv2D)              (None, 224, 224, 12  147584      ['concatenate_6[0][0]']          \n",
            "                                8)                                                                \n",
            "                                                                                                  \n",
            " batch_normalization_6 (BatchNo  (None, 224, 224, 12  512        ['conv2d_6[0][0]']               \n",
            " rmalization)                   8)                                                                \n",
            "                                                                                                  \n",
            " activation_6 (Activation)      (None, 224, 224, 12  0           ['batch_normalization_6[0][0]']  \n",
            "                                8)                                                                \n",
            "                                                                                                  \n",
            " conv2d_7 (Conv2D)              (None, 224, 224, 12  147584      ['activation_6[0][0]']           \n",
            "                                8)                                                                \n",
            "                                                                                                  \n",
            " batch_normalization_7 (BatchNo  (None, 224, 224, 12  512        ['conv2d_7[0][0]']               \n",
            " rmalization)                   8)                                                                \n",
            "                                                                                                  \n",
            " activation_7 (Activation)      (None, 224, 224, 12  0           ['batch_normalization_7[0][0]']  \n",
            "                                8)                                                                \n",
            "                                                                                                  \n",
            " dropout_3 (Dropout)            (None, 224, 224, 12  0           ['activation_7[0][0]']           \n",
            "                                8)                                                                \n",
            "                                                                                                  \n",
            " concatenate_7 (Concatenate)    (None, 224, 224, 19  0           ['dropout_3[0][0]',              \n",
            "                                2)                                'block1_conv2[0][0]']           \n",
            "                                                                                                  \n",
            " dense (Dense)                  (None, 224, 224, 4)  772         ['concatenate_7[0][0]']          \n",
            "                                                                                                  \n",
            "==================================================================================================\n",
            "Total params: 42,916,100\n",
            "Trainable params: 28,193,732\n",
            "Non-trainable params: 14,722,368\n",
            "__________________________________________________________________________________________________\n"
          ]
        }
      ],
      "source": [
        "input_shape = (224,224,3)\n",
        "model = unet_vgg16(input_shape)\n",
        "model.summary()"
      ]
    },
    {
      "cell_type": "code",
      "execution_count": 2,
      "metadata": {
        "id": "eHlpqY8zAk6O"
      },
      "outputs": [],
      "source": [
        "from tensorflow.keras import backend as K\n",
        "def dice_coef(y_true, y_pred):\n",
        "    y_true_f = K.flatten(y_true)\n",
        "    y_pred_f = K.flatten(y_pred)\n",
        "    intersection = K.sum(y_true_f * y_pred_f)\n",
        "    return (2. * intersection + K.epsilon()) / (K.sum(y_true_f) + K.sum(y_pred_f) + K.epsilon())"
      ]
    },
    {
      "cell_type": "code",
      "execution_count": 3,
      "metadata": {
        "id": "OJ-0nIgRZ46b",
        "colab": {
          "base_uri": "https://localhost:8080/",
          "height": 235
        },
        "outputId": "0d429171-154c-4461-b0af-d38fed3a780a"
      },
      "outputs": [
        {
          "output_type": "error",
          "ename": "NameError",
          "evalue": "ignored",
          "traceback": [
            "\u001b[0;31m---------------------------------------------------------------------------\u001b[0m",
            "\u001b[0;31mNameError\u001b[0m                                 Traceback (most recent call last)",
            "\u001b[0;32m<ipython-input-3-86761308f9ca>\u001b[0m in \u001b[0;36m<cell line: 4>\u001b[0;34m()\u001b[0m\n\u001b[1;32m      2\u001b[0m \u001b[0;31m#from tensorflow.keras import backend as K\u001b[0m\u001b[0;34m\u001b[0m\u001b[0;34m\u001b[0m\u001b[0m\n\u001b[1;32m      3\u001b[0m \u001b[0;31m# Configure optimizer and loss function\u001b[0m\u001b[0;34m\u001b[0m\u001b[0;34m\u001b[0m\u001b[0m\n\u001b[0;32m----> 4\u001b[0;31m \u001b[0moptimizer\u001b[0m \u001b[0;34m=\u001b[0m \u001b[0mtf\u001b[0m\u001b[0;34m.\u001b[0m\u001b[0mkeras\u001b[0m\u001b[0;34m.\u001b[0m\u001b[0moptimizers\u001b[0m\u001b[0;34m.\u001b[0m\u001b[0mAdam\u001b[0m\u001b[0;34m(\u001b[0m\u001b[0mlearning_rate\u001b[0m\u001b[0;34m=\u001b[0m\u001b[0;36m0.001\u001b[0m\u001b[0;34m)\u001b[0m\u001b[0;34m\u001b[0m\u001b[0;34m\u001b[0m\u001b[0m\n\u001b[0m\u001b[1;32m      5\u001b[0m \u001b[0;31m# Enable mixed precision optimizer\u001b[0m\u001b[0;34m\u001b[0m\u001b[0;34m\u001b[0m\u001b[0m\n\u001b[1;32m      6\u001b[0m \u001b[0;31m#optimizer = mixed_precision.LossScaleOptimizer(optimizer)\u001b[0m\u001b[0;34m\u001b[0m\u001b[0;34m\u001b[0m\u001b[0m\n",
            "\u001b[0;31mNameError\u001b[0m: name 'tf' is not defined"
          ]
        }
      ],
      "source": [
        "#from tensorflow.keras import mixed_precision\n",
        "#from tensorflow.keras import backend as K\n",
        "# Configure optimizer and loss function\n",
        "optimizer = tf.keras.optimizers.Adam(learning_rate=0.001)\n",
        "# Enable mixed precision optimizer\n",
        "#optimizer = mixed_precision.LossScaleOptimizer(optimizer)\n",
        "model.compile(optimizer=optimizer, loss='categorical_crossentropy', metrics = [dice_coef, 'accuracy'])\n",
        "#model.compile(optimizer=optimizer, loss='categorical_crossentropy', metrics = ['accuracy'])\n",
        "\n",
        "\n"
      ]
    },
    {
      "cell_type": "code",
      "execution_count": null,
      "metadata": {
        "colab": {
          "base_uri": "https://localhost:8080/"
        },
        "id": "_HDcTpqUDxg2",
        "outputId": "86464738-c2ce-401f-dee2-e279c99add40"
      },
      "outputs": [
        {
          "output_type": "stream",
          "name": "stdout",
          "text": [
            "Epoch 1/10\n",
            " 58/277 [=====>........................] - ETA: 5:59:38 - loss: nan - accuracy: 0.7758"
          ]
        }
      ],
      "source": [
        "history = model.fit(training_generator, validation_data=validation_generator, epochs=10, batch_size=16)\n",
        "#model.save('/content/drive/MyDrive/Assg2/vggunetModel_14.h5')\n",
        "#print('Model Saved!')\n"
      ]
    },
    {
      "cell_type": "code",
      "execution_count": null,
      "metadata": {
        "id": "iCr5jjNOjFf_"
      },
      "outputs": [],
      "source": [
        "# summarize history for accuracy\n",
        "plt.figure(figsize=(20,5))\n",
        "plt.subplot(1,2,1)\n",
        "plt.plot(history.history['accuracy'])\n",
        "plt.plot(history.history['val_accuracy'])\n",
        "plt.title('model accuracy')\n",
        "plt.ylabel('accuracy')\n",
        "plt.xlabel('epoch')\n",
        "plt.legend(['train', 'validation'], loc='upper left')\n",
        "\n",
        "\n",
        "# summarize history for accuracy\n",
        "plt.figure(figsize=(20,5))\n",
        "plt.subplot(1,2,1)\n",
        "plt.plot(history.history['loss'])\n",
        "plt.plot(history.history['val_loss'])\n",
        "plt.title('model loss')\n",
        "plt.ylabel('loss')\n",
        "plt.xlabel('epoch')\n",
        "plt.legend(['train', 'validation'], loc='upper left')"
      ]
    },
    {
      "cell_type": "code",
      "execution_count": null,
      "metadata": {
        "id": "Ls4Rf9xyjB7s"
      },
      "outputs": [],
      "source": [
        "from tensorflow.keras.models import load_model\n",
        "\n",
        "# load model\n",
        "#savedModel=load_model('/content/drive/MyDrive/Assg2/vggunetMode15.h5')\n",
        "#savedModel.summary()"
      ]
    },
    {
      "cell_type": "code",
      "execution_count": null,
      "metadata": {
        "id": "loxcUD5lf3ug"
      },
      "outputs": [],
      "source": [
        "#loss, acc = savedModel.evaluate(test_images, test_labels, verbose=2)\n",
        "#print('Restored model, accuracy: {:5.2f}%'.format(100 * acc))"
      ]
    },
    {
      "cell_type": "code",
      "execution_count": null,
      "metadata": {
        "id": "buHgWx7Ahnpg"
      },
      "outputs": [],
      "source": [
        "# a function to plot image with mask and image with predicted mask next to each other\n",
        "def viz_single_fault(img, mask, pred, image_class):\n",
        "\n",
        "    fig, ax = plt.subplots(nrows=1, ncols=2, sharey=True, figsize=(15,5))\n",
        "\n",
        "    cmaps = [\"Reds\", \"Blues\", \"Greens\", \"Purples\"]\n",
        "\n",
        "    ax[0].imshow(img)\n",
        "    ax[0].imshow(mask, alpha=0.3, cmap=cmaps[image_class-1])\n",
        "    ax[0].set_title('Mask - Defect Class %s' % image_class)\n",
        "\n",
        "    ax[1].imshow(img)\n",
        "    ax[1].imshow(pred, alpha=0.3, cmap=cmaps[image_class-1])\n",
        "    ax[1].set_title('Predicted Mask - Defect Class %s' % image_class)\n",
        "\n",
        "    plt.show()"
      ]
    },
    {
      "cell_type": "code",
      "execution_count": null,
      "metadata": {
        "id": "B52K84gWhAk5"
      },
      "outputs": [],
      "source": [
        "make_submission = False\n",
        "if make_submission == False:\n",
        "    # lets loop over the predictions and print 5 of each image cases with defects\n",
        "    count = 0\n",
        "    # a list to keep count of the number of plots made per image class\n",
        "    class_viz_count = [0,0,0,0]\n",
        "    # to keep the total iou score per image class\n",
        "    class_iou_score = [0, 0, 0, 0]\n",
        "    # to keep sum of mask pixels per image class\n",
        "    class_mask_sum = [0, 0, 0, 0]\n",
        "    # to keep sum of predicted mask pixels per image class\n",
        "    class_pred_sum = [0, 0, 0, 0]\n",
        "\n",
        "    # loop over to all the batches in one epoch\n",
        "    for i in range(0, validation_generator.__len__()):\n",
        "        # get a batch of image, true mask, and predicted mask\n",
        "\n",
        "        x, y = validation_generator.__getitem__(i)\n",
        "        predictions = model.predict(x)\n",
        "\n",
        "        # loop through x to get all the images in the batch\n",
        "        for idx, val in enumerate(x):\n",
        "            #print(\"inside 2st for loop\")\n",
        "            # we are only interested if there is a fault. if we are dropping images with no faults before this will become redundant\n",
        "            # if y[idx].sum() > 0:\n",
        "                #print(\"inside y[idx].sum() for loop\")\n",
        "                # get an image and convert to make it matplotlib.pyplot friendly\n",
        "                img = x[idx]\n",
        "                img = cv2.cvtColor(img.astype('float32'), cv2.COLOR_BGR2RGB)\n",
        "                # loop over the four ourput layers to create a list of all the masks for this image\n",
        "                masks_temp = [y[idx][...,i] for i in range(0,4)]\n",
        "                # loop over the four output layers to create a list of all the predictions for this image\n",
        "                preds_temp = [predictions[idx][...,i] for i in range(0,4)]\n",
        "                # turn to binary (prediction) mask\n",
        "                preds_temp = [p > .5 for p in preds_temp]\n",
        "\n",
        "                for i, (mask, pred) in enumerate(zip(masks_temp, preds_temp)):\n",
        "\n",
        "                    image_class = i + 1\n",
        "                    #class_iou_score[i] += calculate_iou(mask, pred)\n",
        "                    class_mask_sum[i] += mask.sum()\n",
        "                    class_pred_sum[i] += pred.sum()\n",
        "                    #print(\"mask.sum() ****\", mask.sum())\n",
        "                    #print(\"class_viz_count[i] **********\" class_viz_count[i])\n",
        "                    if mask.sum() > 0 and class_viz_count[i] < 5:\n",
        "\n",
        "                        viz_single_fault(img, mask, pred, image_class)\n",
        "                        class_viz_count[i] += 1"
      ]
    },
    {
      "cell_type": "code",
      "execution_count": null,
      "metadata": {
        "id": "NPzCAdD-qmL6"
      },
      "outputs": [],
      "source": [
        "from tensorflow.keras.preprocessing.image import load_img,img_to_array\n",
        "\n",
        "def make_prediction(model,image,shape):\n",
        "    img = img_to_array(load_img(image,target_size=shape))\n",
        "    img = np.expand_dims(img,axis=0)/255.\n",
        "    mask = model.predict(img)\n",
        "    print( \"***********\", mask)\n",
        "    mask = (mask[0] > 0.5)*1\n",
        "    #print(np.unique(mask,return_counts=True))\n",
        "\n",
        "    mask = np.reshape(mask,(224,224,3))\n",
        "    return mask"
      ]
    },
    {
      "cell_type": "code",
      "execution_count": null,
      "metadata": {
        "id": "QUiK--IZjqOf"
      },
      "outputs": [],
      "source": [
        "image = TRAIN_IMGS_PATH +\"/0a380d0.jpg\"\n",
        "img = img_to_array(load_img(image))\n",
        "plt.imshow(img/255.)\n",
        "img.shape"
      ]
    },
    {
      "cell_type": "code",
      "execution_count": null,
      "metadata": {
        "id": "pB4bLNvPs4DQ"
      },
      "outputs": [],
      "source": [
        "mask = make_prediction(savedModel,image,(224,224,3))\n",
        "mask2 = cv2.merge([mask,mask,mask]).astype('float32')\n",
        "print(img.shape,mask2.shape)\n",
        "mask2 = cv2.resize(mask2,(img.shape[1],img.shape[0]))\n",
        "# print(mask.shape)\n",
        "plt.imshow(mask2)"
      ]
    },
    {
      "cell_type": "code",
      "source": [
        "# return tensor in the right shape for prediction\n",
        "def get_test_tensor(img_dir, img_h, img_w, channels=1):\n",
        "\n",
        "    X = np.empty((1, img_h, img_w, channels))\n",
        "    # Store sample\n",
        "    image = cv2.imread(img_dir, 0)\n",
        "    image_resized = cv2.resize(image, (img_w, img_h))\n",
        "    image_resized = np.array(image_resized, dtype=np.float64)\n",
        "    # normalize image\n",
        "    image_resized -= image_resized.mean()\n",
        "    image_resized /= image_resized.std()\n",
        "\n",
        "    X[0,] = np.expand_dims(image_resized, axis=2)\n",
        "\n",
        "    return X"
      ],
      "metadata": {
        "id": "jqyX4SO6GbgU"
      },
      "execution_count": null,
      "outputs": []
    },
    {
      "cell_type": "code",
      "source": [
        "## code for submission file\n",
        "\n",
        "import glob\n",
        "# get all files using glob\n",
        "test_files = [f for f in glob.glob(ROOT_DIR +'/test_images/' + \"*.jpg\", recursive=True)]\n",
        "submission = []\n",
        "\n",
        "# a function to apply all the processing steps necessery to each of the individual masks\n",
        "def process_pred_mask(pred_mask):\n",
        "\n",
        "    pred_mask = cv2.resize(pred_mask.astype('float32'),(1600, 256))\n",
        "    pred_mask = (pred_mask > .5).astype(int)\n",
        "    #pred_mask = remove_small_regions(pred_mask, 0.02 * np.prod(512)) * 255\n",
        "    pred_mask = mask_to_rle(pred_mask)\n",
        "\n",
        "    return pred_mask\n",
        "\n",
        "# loop over all the test images\n",
        "for f in test_files:\n",
        "    # get test tensor, output is in shape: (1, 256, 512, 3)\n",
        "    test = get_test_tensor(f, img_h, img_w)\n",
        "    # get prediction, output is in shape: (1, 256, 512, 4)\n",
        "    pred_masks = model.predict(test)\n",
        "    # get a list of masks with shape: 256, 512\n",
        "    pred_masks = [pred_masks[0][...,i] for i in range(0,4)]\n",
        "    # apply all the processing steps to each of the mask\n",
        "    pred_masks = [process_pred_mask(pred_mask) for pred_mask in pred_masks]\n",
        "    # get our image id\n",
        "    id = f.split('/')[-1]\n",
        "    # create ImageId_ClassId and get the EncodedPixels for the class ID, and append to our submissions list\n",
        "    [submission.append((id+'_%s' % (k+1), pred_mask)) for k, pred_mask in enumerate(pred_masks)]\n"
      ],
      "metadata": {
        "id": "M-KwwomeFgQw"
      },
      "execution_count": null,
      "outputs": []
    }
  ],
  "metadata": {
    "colab": {
      "provenance": [],
      "include_colab_link": true
    },
    "kernelspec": {
      "display_name": "Python 3",
      "name": "python3"
    },
    "language_info": {
      "name": "python"
    }
  },
  "nbformat": 4,
  "nbformat_minor": 0
}